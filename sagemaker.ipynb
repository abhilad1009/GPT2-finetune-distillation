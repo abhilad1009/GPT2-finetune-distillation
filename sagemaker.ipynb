{
 "cells": [
  {
   "cell_type": "markdown",
   "metadata": {},
   "source": [
    "## Compress model data for artifact upload"
   ]
  },
  {
   "cell_type": "code",
   "execution_count": 1,
   "metadata": {},
   "outputs": [],
   "source": [
    "import os\n",
    "import tarfile\n",
    "os.chdir('model')\n",
    "\n",
    "with tarfile.open('model.tar.gz', 'w:gz') as tar:\n",
    "    tar.add(\".\")"
   ]
  },
  {
   "cell_type": "markdown",
   "metadata": {},
   "source": [
    "## Create Sagemaker endpoint"
   ]
  },
  {
   "cell_type": "code",
   "execution_count": null,
   "metadata": {},
   "outputs": [],
   "source": [
    "import os\n",
    "import sagemaker\n",
    "from sagemaker.pytorch import PyTorchModel\n",
    "from sagemaker.huggingface.model import HuggingFaceModel\n",
    "\n",
    "\n",
    "sagemaker_session = sagemaker.Session()\n",
    "bucket_name = 'abhi-sagemaker'\n",
    "model_artifacts_location = 's3://abhi-sagemaker/models/gpt2-artifacts/model.tar.gz'\n",
    "\n",
    "role = sagemaker.get_execution_role()\n",
    "\n",
    "\n",
    "huggingface_model = HuggingFaceModel(\n",
    "   model_data=\"s3://abhi-sagemaker/models/gpt2-artifacts/model.tar.gz\", \n",
    "   role=role,                                            \n",
    "   transformers_version=\"4.26\",                           \n",
    "   pytorch_version=\"1.13\",                                \n",
    "   py_version='py39',                                    \n",
    ")\n",
    "\n",
    "# deploy model to SageMaker Inference\n",
    "predictor = huggingface_model.deploy(\n",
    "   initial_instance_count=1,\n",
    "   instance_type=\"ml.m5.xlarge\"\n",
    ")\n",
    "\n",
    "\n",
    "# Test request on sagemaker\n",
    "data = {\n",
    "   \"inputs\": \"<len> 5 <word> the <text> \"\n",
    "}\n",
    "\n",
    "# request\n",
    "predictor.predict(data)"
   ]
  },
  {
   "cell_type": "markdown",
   "metadata": {},
   "source": [
    "## Invoke the Sagemaker endpoint from local machine"
   ]
  },
  {
   "cell_type": "code",
   "execution_count": 1,
   "metadata": {},
   "outputs": [
    {
     "name": "stdout",
     "output_type": "stream",
     "text": [
      "Generated Text: <len> 4 <word> the <text> New Dennis Cash Show\n"
     ]
    }
   ],
   "source": [
    "import boto3\n",
    "import json\n",
    "\n",
    "AWS_REGION = 'us-east-1'\n",
    "\n",
    "# SageMaker endpoint name\n",
    "SAGEMAKER_ENDPOINT_NAME = 'huggingface-pytorch-inference-2024-02-13-03-17-20-651'\n",
    "\n",
    "input_text = \"<len> 4 <word> the <text> \"\n",
    "\n",
    "sagemaker_runtime = boto3.client('sagemaker-runtime', region_name=AWS_REGION)\n",
    "\n",
    "request_payload = {\n",
    "    \"inputs\": input_text\n",
    "}\n",
    "\n",
    "# Invoke the SageMaker endpoint\n",
    "response = sagemaker_runtime.invoke_endpoint(\n",
    "    EndpointName=SAGEMAKER_ENDPOINT_NAME,\n",
    "    Body=json.dumps(request_payload),\n",
    "    ContentType='application/json'\n",
    ")\n",
    "\n",
    "response_body = json.loads(response['Body'].read())\n",
    "output_text = response_body[0]['generated_text']\n",
    "print(\"Generated Text:\", output_text)\n"
   ]
  },
  {
   "cell_type": "markdown",
   "metadata": {},
   "source": [
    "## Measure latency and throughput"
   ]
  },
  {
   "cell_type": "code",
   "execution_count": 4,
   "metadata": {},
   "outputs": [
    {
     "name": "stdout",
     "output_type": "stream",
     "text": [
      "Latency:  0.5369790315628051\n",
      "Throughput per minute:  111.7362065803167\n"
     ]
    }
   ],
   "source": [
    "import time\n",
    "\n",
    "latency = []\n",
    "for i in range(100):\n",
    "    start_time = time.time()\n",
    "    response = sagemaker_runtime.invoke_endpoint(\n",
    "        EndpointName=SAGEMAKER_ENDPOINT_NAME,\n",
    "        Body=json.dumps(request_payload),\n",
    "        ContentType='application/json'\n",
    "    )\n",
    "    end_time = time.time()\n",
    "    latency.append(end_time - start_time)\n",
    "\n",
    "mean_latency = sum(latency)/len(latency)\n",
    "througput = 60/mean_latency\n",
    "\n",
    "print(\"Latency: \", mean_latency)\n",
    "print(\"Throughput per minute: \",througput)\n"
   ]
  },
  {
   "cell_type": "markdown",
   "metadata": {},
   "source": [
    "## Deployment optimization considerations\n",
    "\n",
    "- Bigger hammer: Better sagemaker instance type\n",
    "- Efficient model: Use distilled models or quantized models\n",
    "- We can batch multiple requests together to reduce number of requests\n",
    "- Depending on reproducibility, we can cache the results\n",
    "- Send preprocessed request to offload processing overhead on server\n",
    "- Configure endpoint to process requent in parallel"
   ]
  }
 ],
 "metadata": {
  "kernelspec": {
   "display_name": "base",
   "language": "python",
   "name": "python3"
  },
  "language_info": {
   "codemirror_mode": {
    "name": "ipython",
    "version": 3
   },
   "file_extension": ".py",
   "mimetype": "text/x-python",
   "name": "python",
   "nbconvert_exporter": "python",
   "pygments_lexer": "ipython3",
   "version": "3.11.4"
  }
 },
 "nbformat": 4,
 "nbformat_minor": 2
}
